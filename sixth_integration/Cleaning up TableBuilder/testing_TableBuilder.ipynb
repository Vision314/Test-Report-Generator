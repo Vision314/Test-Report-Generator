{
 "cells": [
  {
   "cell_type": "code",
   "execution_count": null,
   "id": "bd1eca50",
   "metadata": {},
   "outputs": [],
   "source": [
    "import importlib\n",
    "import parse\n",
    "import build\n",
    "importlib.reload(parse)\n",
    "importlib.reload(build)\n",
    "\n",
    "\n",
    "from parse import *\n",
    "from build import Blocks\n",
    "import json"
   ]
  },
  {
   "cell_type": "code",
   "execution_count": 220,
   "id": "8908c110",
   "metadata": {},
   "outputs": [],
   "source": [
    "json_path = r\"C:\\Users\\enfxm\\Desktop\\Python Testing\\Test Report Template\\Test-Report-Generator\\sixth_integration\\form_to_csv_to_latex\\test_descriptions.json\"\n",
    "\n",
    "with open(json_path, 'r') as file:\n",
    "    metadata = json.load(file)\n",
    "\n"
   ]
  },
  {
   "cell_type": "code",
   "execution_count": 221,
   "id": "0e537b52",
   "metadata": {},
   "outputs": [
    {
     "name": "stdout",
     "output_type": "stream",
     "text": [
      "\n",
      "\n"
     ]
    }
   ],
   "source": [
    "TC = TableConditions(metadata)\n",
    "RC = RowConditions(metadata)\n",
    "CC = ColumnConditions(metadata)\n",
    "Re = Results(metadata)\n",
    "Sp = Specifications(metadata)\n"
   ]
  },
  {
   "cell_type": "code",
   "execution_count": 222,
   "id": "639caf16",
   "metadata": {},
   "outputs": [],
   "source": [
    "import pandas as pd\n",
    "\n",
    "# make an empty dataframe that 2x2\n",
    "df = pd.DataFrame(index=range(len(RC.values)), columns=range(2))\n"
   ]
  },
  {
   "cell_type": "code",
   "execution_count": 223,
   "id": "68f6861e",
   "metadata": {},
   "outputs": [
    {
     "data": {
      "text/html": [
       "<div>\n",
       "<style scoped>\n",
       "    .dataframe tbody tr th:only-of-type {\n",
       "        vertical-align: middle;\n",
       "    }\n",
       "\n",
       "    .dataframe tbody tr th {\n",
       "        vertical-align: top;\n",
       "    }\n",
       "\n",
       "    .dataframe thead th {\n",
       "        text-align: right;\n",
       "    }\n",
       "</style>\n",
       "<table border=\"1\" class=\"dataframe\">\n",
       "  <thead>\n",
       "    <tr style=\"text-align: right;\">\n",
       "      <th></th>\n",
       "      <th>0</th>\n",
       "      <th>1</th>\n",
       "    </tr>\n",
       "  </thead>\n",
       "  <tbody>\n",
       "    <tr>\n",
       "      <th>0</th>\n",
       "      <td>NaN</td>\n",
       "      <td>NaN</td>\n",
       "    </tr>\n",
       "    <tr>\n",
       "      <th>1</th>\n",
       "      <td>NaN</td>\n",
       "      <td>NaN</td>\n",
       "    </tr>\n",
       "    <tr>\n",
       "      <th>2</th>\n",
       "      <td>NaN</td>\n",
       "      <td>NaN</td>\n",
       "    </tr>\n",
       "  </tbody>\n",
       "</table>\n",
       "</div>"
      ],
      "text/plain": [
       "     0    1\n",
       "0  NaN  NaN\n",
       "1  NaN  NaN\n",
       "2  NaN  NaN"
      ]
     },
     "execution_count": 223,
     "metadata": {},
     "output_type": "execute_result"
    }
   ],
   "source": [
    "df"
   ]
  },
  {
   "cell_type": "code",
   "execution_count": 224,
   "id": "81ffc35b",
   "metadata": {},
   "outputs": [
    {
     "data": {
      "text/plain": [
       "8"
      ]
     },
     "execution_count": 224,
     "metadata": {},
     "output_type": "execute_result"
    }
   ],
   "source": [
    "tot_vals = sum(len(subarray) for subarray in RC.values)\n",
    "df = pd.DataFrame(index=range(tot_vals), columns=range(2))\n",
    "\n",
    "tot_vals"
   ]
  },
  {
   "cell_type": "code",
   "execution_count": 235,
   "id": "9e13d541",
   "metadata": {},
   "outputs": [
    {
     "data": {
      "text/plain": [
       "['90', '120', '240']"
      ]
     },
     "execution_count": 235,
     "metadata": {},
     "output_type": "execute_result"
    }
   ],
   "source": [
    "RC.values"
   ]
  },
  {
   "cell_type": "code",
   "execution_count": null,
   "id": "3710900d",
   "metadata": {},
   "outputs": [],
   "source": []
  },
  {
   "cell_type": "code",
   "execution_count": null,
   "id": "d55c3313",
   "metadata": {},
   "outputs": [],
   "source": []
  },
  {
   "cell_type": "code",
   "execution_count": 226,
   "id": "cb92f66b",
   "metadata": {},
   "outputs": [
    {
     "data": {
      "text/plain": [
       "['output current']"
      ]
     },
     "execution_count": 226,
     "metadata": {},
     "output_type": "execute_result"
    }
   ],
   "source": [
    "var = [\"output current\"]\n",
    "\n",
    "var"
   ]
  },
  {
   "cell_type": "code",
   "execution_count": 227,
   "id": "a1114b39",
   "metadata": {},
   "outputs": [
    {
     "data": {
      "text/plain": [
       "True"
      ]
     },
     "execution_count": 227,
     "metadata": {},
     "output_type": "execute_result"
    }
   ],
   "source": [
    "are_multiple_names = True if len(RC.names) > 1 else False\n",
    "\n",
    "are_multiple_names"
   ]
  },
  {
   "cell_type": "code",
   "execution_count": 280,
   "id": "b57b6db7",
   "metadata": {},
   "outputs": [],
   "source": [
    "values1 = [\"0\", \"1\", \"2\"]\n",
    "names1 = [\"Output Current\"]\n",
    "\n",
    "values2 = [[\"0\", \"1\", \"2\"], [\"10\", \"9\", \"8\"]]\n",
    "names2 = [\"Output Current, Poop Current\"]\n",
    "\n",
    "tot_vals = sum(len(subarray) for subarray in values1)\n",
    "df2 = pd.DataFrame(index=range(tot_vals), columns=range(2))"
   ]
  },
  {
   "cell_type": "code",
   "execution_count": null,
   "id": "8f27a283",
   "metadata": {},
   "outputs": [
    {
     "data": {
      "text/html": [
       "<div>\n",
       "<style scoped>\n",
       "    .dataframe tbody tr th:only-of-type {\n",
       "        vertical-align: middle;\n",
       "    }\n",
       "\n",
       "    .dataframe tbody tr th {\n",
       "        vertical-align: top;\n",
       "    }\n",
       "\n",
       "    .dataframe thead th {\n",
       "        text-align: right;\n",
       "    }\n",
       "</style>\n",
       "<table border=\"1\" class=\"dataframe\">\n",
       "  <thead>\n",
       "    <tr style=\"text-align: right;\">\n",
       "      <th></th>\n",
       "      <th>0</th>\n",
       "      <th>1</th>\n",
       "    </tr>\n",
       "  </thead>\n",
       "  <tbody>\n",
       "    <tr>\n",
       "      <th>0</th>\n",
       "      <td>NaN</td>\n",
       "      <td>NaN</td>\n",
       "    </tr>\n",
       "    <tr>\n",
       "      <th>1</th>\n",
       "      <td>NaN</td>\n",
       "      <td>NaN</td>\n",
       "    </tr>\n",
       "    <tr>\n",
       "      <th>2</th>\n",
       "      <td>NaN</td>\n",
       "      <td>NaN</td>\n",
       "    </tr>\n",
       "  </tbody>\n",
       "</table>\n",
       "</div>"
      ],
      "text/plain": [
       "     0    1\n",
       "0  NaN  NaN\n",
       "1  NaN  NaN\n",
       "2  NaN  NaN"
      ]
     },
     "execution_count": 281,
     "metadata": {},
     "output_type": "execute_result"
    }
   ],
   "source": []
  },
  {
   "cell_type": "code",
   "execution_count": null,
   "id": "f03e8253",
   "metadata": {},
   "outputs": [],
   "source": [
    "def _build_row_condition_data(self, total_columns):\n",
    "    \"\"\"Build row condition data with proper grouping and merging simulation\"\"\"\n",
    "    if not self.row_conditions['names']:\n",
    "        return []\n",
    "    \n",
    "    row_data = []\n",
    "    \n",
    "    for i, (name, unit) in enumerate(zip(self.row_conditions['names'], self.row_conditions['units'])):\n",
    "        # Format the row condition name with units\n",
    "        if unit:\n",
    "            row_name = f\"{name} ({unit})\"\n",
    "        else:\n",
    "            row_name = name\n",
    "        \n",
    "        # Get values for this specific row condition\n",
    "        if i < len(self.row_conditions['values']):\n",
    "            condition_values = self.row_conditions['values'][i]\n",
    "        else:\n",
    "            condition_values = ['']  # Default if no values\n",
    "        \n",
    "        # Create rows for each value\n",
    "        for j, value in enumerate(condition_values):\n",
    "            row = [''] * total_columns\n",
    "            \n",
    "            # All rows get the same name (simulating merged cells by repetition)\n",
    "            row[0] = row_name\n",
    "            \n",
    "            # Second column gets the value\n",
    "            row[1] = value\n",
    "            \n",
    "            # Fill remaining columns with placeholders\n",
    "            for col in range(2, total_columns):\n",
    "                row[col] = '--'\n",
    "            \n",
    "            row_data.append(row)\n",
    "    \n",
    "    return row_data"
   ]
  },
  {
   "cell_type": "code",
   "execution_count": 283,
   "id": "9bbe97e9",
   "metadata": {},
   "outputs": [
    {
     "data": {
      "text/html": [
       "<div>\n",
       "<style scoped>\n",
       "    .dataframe tbody tr th:only-of-type {\n",
       "        vertical-align: middle;\n",
       "    }\n",
       "\n",
       "    .dataframe tbody tr th {\n",
       "        vertical-align: top;\n",
       "    }\n",
       "\n",
       "    .dataframe thead th {\n",
       "        text-align: right;\n",
       "    }\n",
       "</style>\n",
       "<table border=\"1\" class=\"dataframe\">\n",
       "  <thead>\n",
       "    <tr style=\"text-align: right;\">\n",
       "      <th></th>\n",
       "      <th>0</th>\n",
       "      <th>1</th>\n",
       "    </tr>\n",
       "  </thead>\n",
       "  <tbody>\n",
       "    <tr>\n",
       "      <th>0</th>\n",
       "      <td>Output Current</td>\n",
       "      <td>0</td>\n",
       "    </tr>\n",
       "    <tr>\n",
       "      <th>1</th>\n",
       "      <td>NaN</td>\n",
       "      <td>NaN</td>\n",
       "    </tr>\n",
       "    <tr>\n",
       "      <th>2</th>\n",
       "      <td>NaN</td>\n",
       "      <td>NaN</td>\n",
       "    </tr>\n",
       "  </tbody>\n",
       "</table>\n",
       "</div>"
      ],
      "text/plain": [
       "                0    1\n",
       "0  Output Current    0\n",
       "1             NaN  NaN\n",
       "2             NaN  NaN"
      ]
     },
     "execution_count": 283,
     "metadata": {},
     "output_type": "execute_result"
    }
   ],
   "source": [
    "df2"
   ]
  },
  {
   "cell_type": "code",
   "execution_count": null,
   "id": "1b9288dc",
   "metadata": {},
   "outputs": [],
   "source": []
  }
 ],
 "metadata": {
  "kernelspec": {
   "display_name": "Python 3",
   "language": "python",
   "name": "python3"
  },
  "language_info": {
   "codemirror_mode": {
    "name": "ipython",
    "version": 3
   },
   "file_extension": ".py",
   "mimetype": "text/x-python",
   "name": "python",
   "nbconvert_exporter": "python",
   "pygments_lexer": "ipython3",
   "version": "3.13.5"
  }
 },
 "nbformat": 4,
 "nbformat_minor": 5
}
