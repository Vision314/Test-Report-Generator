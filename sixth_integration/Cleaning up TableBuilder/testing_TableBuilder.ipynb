{
 "cells": [
  {
   "cell_type": "code",
   "execution_count": 157,
   "id": "bd1eca50",
   "metadata": {},
   "outputs": [],
   "source": [
    "import importlib\n",
    "import parse\n",
    "importlib.reload(parse)\n",
    "\n",
    "from parse import *\n",
    "import json"
   ]
  },
  {
   "cell_type": "code",
   "execution_count": 158,
   "id": "8908c110",
   "metadata": {},
   "outputs": [],
   "source": [
    "json_path = r\"C:\\Users\\enfxm\\Desktop\\Python Testing\\Test Report Template\\Test-Report-Generator\\sixth_integration\\form_to_csv_to_latex\\test_descriptions.json\"\n",
    "\n",
    "with open(json_path, 'r') as file:\n",
    "    metadata = json.load(file)\n",
    "\n"
   ]
  },
  {
   "cell_type": "code",
   "execution_count": 159,
   "id": "0e537b52",
   "metadata": {},
   "outputs": [
    {
     "ename": "SyntaxError",
     "evalue": "invalid syntax (1087319176.py, line 5)",
     "output_type": "error",
     "traceback": [
      "  \u001b[36mCell\u001b[39m\u001b[36m \u001b[39m\u001b[32mIn[159]\u001b[39m\u001b[32m, line 5\u001b[39m\n\u001b[31m    \u001b[39m\u001b[31mCC.\u001b[39m\n       ^\n\u001b[31mSyntaxError\u001b[39m\u001b[31m:\u001b[39m invalid syntax\n"
     ]
    }
   ],
   "source": [
    "TC = TableConditions(metadata)\n",
    "RC = RowConditions(metadata)\n",
    "CC = ColumnConditions(metadata)\n",
    "\n",
    "CC."
   ]
  },
  {
   "cell_type": "code",
   "execution_count": null,
   "id": "61366cb5",
   "metadata": {},
   "outputs": [
    {
     "data": {
      "text/plain": [
       "True"
      ]
     },
     "execution_count": 153,
     "metadata": {},
     "output_type": "execute_result"
    }
   ],
   "source": [
    "contains_results = bool(metadata.get('results').get('name', False))\n",
    "\n",
    "contains_results\n"
   ]
  },
  {
   "cell_type": "code",
   "execution_count": null,
   "id": "4da85359",
   "metadata": {},
   "outputs": [],
   "source": []
  }
 ],
 "metadata": {
  "kernelspec": {
   "display_name": "Python 3",
   "language": "python",
   "name": "python3"
  },
  "language_info": {
   "codemirror_mode": {
    "name": "ipython",
    "version": 3
   },
   "file_extension": ".py",
   "mimetype": "text/x-python",
   "name": "python",
   "nbconvert_exporter": "python",
   "pygments_lexer": "ipython3",
   "version": "3.13.5"
  }
 },
 "nbformat": 4,
 "nbformat_minor": 5
}
