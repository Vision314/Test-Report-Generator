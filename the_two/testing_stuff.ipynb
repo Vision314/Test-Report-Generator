{
 "cells": [
  {
   "cell_type": "code",
   "execution_count": 20,
   "id": "18000b84-a902-4391-b3ff-d8f2d1b10ec6",
   "metadata": {},
   "outputs": [],
   "source": [
    "path = r\"C:\\Users\\enfxm\\Desktop\\Python Testing\\Test Report Template\\Test-Report-Generator\\the_two\\TEMPLATE FORMAT\\cover_page\\equipment_used\\csv\\data.csv\""
   ]
  },
  {
   "cell_type": "code",
   "execution_count": 21,
   "id": "94c5fd1a",
   "metadata": {},
   "outputs": [
    {
     "data": {
      "text/html": [
       "<div>\n",
       "<style scoped>\n",
       "    .dataframe tbody tr th:only-of-type {\n",
       "        vertical-align: middle;\n",
       "    }\n",
       "\n",
       "    .dataframe tbody tr th {\n",
       "        vertical-align: top;\n",
       "    }\n",
       "\n",
       "    .dataframe thead th {\n",
       "        text-align: right;\n",
       "    }\n",
       "</style>\n",
       "<table border=\"1\" class=\"dataframe\">\n",
       "  <thead>\n",
       "    <tr style=\"text-align: right;\">\n",
       "      <th></th>\n",
       "      <th>Equipment Type</th>\n",
       "      <th>Man.</th>\n",
       "      <th>Model</th>\n",
       "      <th>Description</th>\n",
       "      <th>S/N</th>\n",
       "      <th>Last Cal.</th>\n",
       "      <th>Cal. Due</th>\n",
       "    </tr>\n",
       "  </thead>\n",
       "  <tbody>\n",
       "    <tr>\n",
       "      <th>0</th>\n",
       "      <td>Oscilloscope</td>\n",
       "      <td>Siglent</td>\n",
       "      <td>SDS 2104 X</td>\n",
       "      <td>100MHz, 4-ch, 2GSa/s</td>\n",
       "      <td>DS1ZA201204643</td>\n",
       "      <td>44322.0</td>\n",
       "      <td>45443.0</td>\n",
       "    </tr>\n",
       "    <tr>\n",
       "      <th>1</th>\n",
       "      <td>Oscilloscope</td>\n",
       "      <td>Rigol</td>\n",
       "      <td>DS1054Z</td>\n",
       "      <td>50MHz, 4-ch, 1GSa/s</td>\n",
       "      <td>DS1ZA201204643</td>\n",
       "      <td>44932.0</td>\n",
       "      <td>46758.0</td>\n",
       "    </tr>\n",
       "    <tr>\n",
       "      <th>2</th>\n",
       "      <td>Current Probe</td>\n",
       "      <td>AEMC</td>\n",
       "      <td>SL261</td>\n",
       "      <td>0 - 70A RMS, DC - 100KHz</td>\n",
       "      <td>114971BJDV</td>\n",
       "      <td>44322.0</td>\n",
       "      <td>45443.0</td>\n",
       "    </tr>\n",
       "    <tr>\n",
       "      <th>3</th>\n",
       "      <td>Differential Probe</td>\n",
       "      <td>Probemaster</td>\n",
       "      <td>4232</td>\n",
       "      <td>25MHz, 700V</td>\n",
       "      <td>39182</td>\n",
       "      <td>44322.0</td>\n",
       "      <td>45443.0</td>\n",
       "    </tr>\n",
       "    <tr>\n",
       "      <th>4</th>\n",
       "      <td>Differential Probe</td>\n",
       "      <td>Micsig</td>\n",
       "      <td>DP10013</td>\n",
       "      <td>100MHz, 1300V</td>\n",
       "      <td>900002838</td>\n",
       "      <td>44932.0</td>\n",
       "      <td>46758.0</td>\n",
       "    </tr>\n",
       "  </tbody>\n",
       "</table>\n",
       "</div>"
      ],
      "text/plain": [
       "       Equipment Type         Man.       Model                Description  \\\n",
       "0        Oscilloscope      Siglent  SDS 2104 X       100MHz, 4-ch, 2GSa/s   \n",
       "1        Oscilloscope        Rigol     DS1054Z        50MHz, 4-ch, 1GSa/s   \n",
       "2       Current Probe         AEMC       SL261  0 - 70A RMS, DC - 100KHz    \n",
       "3  Differential Probe  Probemaster        4232                25MHz, 700V   \n",
       "4  Differential Probe       Micsig     DP10013              100MHz, 1300V   \n",
       "\n",
       "              S/N  Last Cal.  Cal. Due  \n",
       "0  DS1ZA201204643    44322.0   45443.0  \n",
       "1  DS1ZA201204643    44932.0   46758.0  \n",
       "2      114971BJDV    44322.0   45443.0  \n",
       "3           39182    44322.0   45443.0  \n",
       "4       900002838    44932.0   46758.0  "
      ]
     },
     "execution_count": 21,
     "metadata": {},
     "output_type": "execute_result"
    }
   ],
   "source": [
    "import pandas as pd\n",
    "\n",
    "# Read the CSV file with encoding specified\n",
    "equipment_used_df = pd.read_csv(path)\n",
    "\n",
    "# Display the first 5 rows of the DataFrame\n",
    "equipment_used_df.head(5)"
   ]
  },
  {
   "cell_type": "code",
   "execution_count": null,
   "id": "c2bb5cbb",
   "metadata": {},
   "outputs": [],
   "source": []
  },
  {
   "cell_type": "code",
   "execution_count": null,
   "id": "1600590a",
   "metadata": {},
   "outputs": [],
   "source": []
  },
  {
   "cell_type": "code",
   "execution_count": null,
   "id": "af52f1e7",
   "metadata": {},
   "outputs": [],
   "source": []
  }
 ],
 "metadata": {
  "kernelspec": {
   "display_name": "Python 3",
   "language": "python",
   "name": "python3"
  },
  "language_info": {
   "codemirror_mode": {
    "name": "ipython",
    "version": 3
   },
   "file_extension": ".py",
   "mimetype": "text/x-python",
   "name": "python",
   "nbconvert_exporter": "python",
   "pygments_lexer": "ipython3",
   "version": "3.13.5"
  }
 },
 "nbformat": 4,
 "nbformat_minor": 5
}
