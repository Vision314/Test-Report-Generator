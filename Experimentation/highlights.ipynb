{
 "cells": [
  {
   "cell_type": "code",
   "execution_count": 9,
   "id": "accd31e3",
   "metadata": {},
   "outputs": [
    {
     "data": {
      "text/html": [
       "<style type=\"text/css\">\n",
       "#T_96679_row0_col0, #T_96679_row0_col1, #T_96679_row0_col2, #T_96679_row0_col4, #T_96679_row1_col0, #T_96679_row1_col1, #T_96679_row1_col2, #T_96679_row1_col4, #T_96679_row2_col0, #T_96679_row2_col1, #T_96679_row2_col2, #T_96679_row2_col4, #T_96679_row3_col0, #T_96679_row3_col1, #T_96679_row3_col2, #T_96679_row3_col4 {\n",
       "  background-color: lightblue;\n",
       "}\n",
       "</style>\n",
       "<table id=\"T_96679\">\n",
       "  <thead>\n",
       "    <tr>\n",
       "      <th class=\"blank level0\" >&nbsp;</th>\n",
       "      <th id=\"T_96679_level0_col0\" class=\"col_heading level0 col0\" >Category</th>\n",
       "      <th id=\"T_96679_level0_col1\" class=\"col_heading level0 col1\" >Count</th>\n",
       "      <th id=\"T_96679_level0_col2\" class=\"col_heading level0 col2\" >Cost</th>\n",
       "      <th id=\"T_96679_level0_col3\" class=\"col_heading level0 col3\" >Name</th>\n",
       "      <th id=\"T_96679_level0_col4\" class=\"col_heading level0 col4\" >City</th>\n",
       "      <th id=\"T_96679_level0_col5\" class=\"col_heading level0 col5\" >Age</th>\n",
       "    </tr>\n",
       "  </thead>\n",
       "  <tbody>\n",
       "    <tr>\n",
       "      <th id=\"T_96679_level0_row0\" class=\"row_heading level0 row0\" >0</th>\n",
       "      <td id=\"T_96679_row0_col0\" class=\"data row0 col0\" >A</td>\n",
       "      <td id=\"T_96679_row0_col1\" class=\"data row0 col1\" >10</td>\n",
       "      <td id=\"T_96679_row0_col2\" class=\"data row0 col2\" >100.500000</td>\n",
       "      <td id=\"T_96679_row0_col3\" class=\"data row0 col3\" >Alice</td>\n",
       "      <td id=\"T_96679_row0_col4\" class=\"data row0 col4\" >NY</td>\n",
       "      <td id=\"T_96679_row0_col5\" class=\"data row0 col5\" >25</td>\n",
       "    </tr>\n",
       "    <tr>\n",
       "      <th id=\"T_96679_level0_row1\" class=\"row_heading level0 row1\" >1</th>\n",
       "      <td id=\"T_96679_row1_col0\" class=\"data row1 col0\" >B</td>\n",
       "      <td id=\"T_96679_row1_col1\" class=\"data row1 col1\" >20</td>\n",
       "      <td id=\"T_96679_row1_col2\" class=\"data row1 col2\" >200.750000</td>\n",
       "      <td id=\"T_96679_row1_col3\" class=\"data row1 col3\" >Bob</td>\n",
       "      <td id=\"T_96679_row1_col4\" class=\"data row1 col4\" >LA</td>\n",
       "      <td id=\"T_96679_row1_col5\" class=\"data row1 col5\" >32</td>\n",
       "    </tr>\n",
       "    <tr>\n",
       "      <th id=\"T_96679_level0_row2\" class=\"row_heading level0 row2\" >2</th>\n",
       "      <td id=\"T_96679_row2_col0\" class=\"data row2 col0\" >C</td>\n",
       "      <td id=\"T_96679_row2_col1\" class=\"data row2 col1\" >30</td>\n",
       "      <td id=\"T_96679_row2_col2\" class=\"data row2 col2\" >150.000000</td>\n",
       "      <td id=\"T_96679_row2_col3\" class=\"data row2 col3\" >Charlie</td>\n",
       "      <td id=\"T_96679_row2_col4\" class=\"data row2 col4\" >Chicago</td>\n",
       "      <td id=\"T_96679_row2_col5\" class=\"data row2 col5\" >40</td>\n",
       "    </tr>\n",
       "    <tr>\n",
       "      <th id=\"T_96679_level0_row3\" class=\"row_heading level0 row3\" >3</th>\n",
       "      <td id=\"T_96679_row3_col0\" class=\"data row3 col0\" >D</td>\n",
       "      <td id=\"T_96679_row3_col1\" class=\"data row3 col1\" >40</td>\n",
       "      <td id=\"T_96679_row3_col2\" class=\"data row3 col2\" >300.250000</td>\n",
       "      <td id=\"T_96679_row3_col3\" class=\"data row3 col3\" >David</td>\n",
       "      <td id=\"T_96679_row3_col4\" class=\"data row3 col4\" >Houston</td>\n",
       "      <td id=\"T_96679_row3_col5\" class=\"data row3 col5\" >29</td>\n",
       "    </tr>\n",
       "  </tbody>\n",
       "</table>\n"
      ],
      "text/plain": [
       "<pandas.io.formats.style.Styler at 0x1e06fe4a0d0>"
      ]
     },
     "execution_count": 9,
     "metadata": {},
     "output_type": "execute_result"
    }
   ],
   "source": [
    "import pandas as pd\n",
    "import numpy as np\n",
    "\n",
    "# Create dummy data\n",
    "data = {\n",
    "    'Category': ['A', 'B', 'C', 'D'],\n",
    "    'Count': [10, 20, 30, 40],\n",
    "    'Cost': [100.5, 200.75, 150.0, 300.25],\n",
    "    'Name': ['Alice', 'Bob', 'Charlie', 'David'],\n",
    "    'City': ['NY', 'LA', 'Chicago', 'Houston'],\n",
    "    'Age': [25, 32, 40, 29]\n",
    "}\n",
    "\n",
    "df = pd.DataFrame(data)\n",
    "\n",
    "# Function to highlight columns starting with 'C'\n",
    "def highlight_C_columns(col):\n",
    "    if col.name.startswith('C'):\n",
    "        return ['background-color: lightblue'] * len(col)\n",
    "    else:\n",
    "        return [''] * len(col)\n",
    "\n",
    "# Apply the highlighting\n",
    "styled_df = df.style.apply(highlight_C_columns)\n",
    "\n",
    "styled_df\n"
   ]
  },
  {
   "cell_type": "code",
   "execution_count": 7,
   "id": "17305900",
   "metadata": {},
   "outputs": [
    {
     "ename": "AttributeError",
     "evalue": "'Styler' object has no attribute 'tolist'",
     "output_type": "error",
     "traceback": [
      "\u001b[31m---------------------------------------------------------------------------\u001b[39m",
      "\u001b[31mAttributeError\u001b[39m                            Traceback (most recent call last)",
      "\u001b[36mCell\u001b[39m\u001b[36m \u001b[39m\u001b[32mIn[7]\u001b[39m\u001b[32m, line 8\u001b[39m\n\u001b[32m      5\u001b[39m root.title(\u001b[33m'\u001b[39m\u001b[33mtitle\u001b[39m\u001b[33m'\u001b[39m)\n\u001b[32m      7\u001b[39m sheet = tksheet.Sheet(root)\n\u001b[32m----> \u001b[39m\u001b[32m8\u001b[39m sheet.set_sheet_data(\u001b[43mstyled_df\u001b[49m\u001b[43m.\u001b[49m\u001b[43mtolist\u001b[49m())\n\u001b[32m      9\u001b[39m sheet.headers(styled_df.columns.tolist())\n\u001b[32m     11\u001b[39m sheet.pack(fill=\u001b[33m'\u001b[39m\u001b[33mboth\u001b[39m\u001b[33m'\u001b[39m, expand=\u001b[38;5;28;01mTrue\u001b[39;00m)\n",
      "\u001b[31mAttributeError\u001b[39m: 'Styler' object has no attribute 'tolist'"
     ]
    }
   ],
   "source": [
    "import tkinter as tk\n",
    "import tksheet\n",
    "\n",
    "root = tk.Tk()\n",
    "root.title('title')\n",
    "\n",
    "sheet = tksheet.Sheet(root)\n",
    "sheet.set_sheet_data(styled_df.tolist())\n",
    "sheet.headers(styled_df.columns.tolist())\n",
    "\n",
    "sheet.pack(fill='both', expand=True)\n",
    "\n",
    "root.mainloop()"
   ]
  },
  {
   "cell_type": "code",
   "execution_count": null,
   "id": "372ab06a",
   "metadata": {},
   "outputs": [],
   "source": []
  }
 ],
 "metadata": {
  "kernelspec": {
   "display_name": "Python 3",
   "language": "python",
   "name": "python3"
  },
  "language_info": {
   "codemirror_mode": {
    "name": "ipython",
    "version": 3
   },
   "file_extension": ".py",
   "mimetype": "text/x-python",
   "name": "python",
   "nbconvert_exporter": "python",
   "pygments_lexer": "ipython3",
   "version": "3.13.5"
  }
 },
 "nbformat": 4,
 "nbformat_minor": 5
}
