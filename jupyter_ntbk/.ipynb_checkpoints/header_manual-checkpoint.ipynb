{
 "cells": [
  {
   "cell_type": "code",
   "execution_count": 1,
   "id": "717d5893-578f-443f-bbb4-a0d5675a7085",
   "metadata": {},
   "outputs": [],
   "source": [
    "import pandas as pd\n",
    "import numpy as np"
   ]
  },
  {
   "cell_type": "code",
   "execution_count": 2,
   "id": "530bba0b-6bed-43e9-a737-e06e693fcbc5",
   "metadata": {},
   "outputs": [],
   "source": [
    "# Test Name\n",
    "    # Input Current\n",
    "    # No Load Input Power\n",
    "    # Inrush Current\n",
    "    # Over-Current Protection\n",
    "# Specification (units)\n",
    "    # typ, min, max\n",
    "    # (typ) 2.3A @ 99Vac\n",
    "    # (max) 150 mW @ 277 Vac\n",
    "    \n",
    "    # (typ/min/max) : (spec) (units) : (condition) (units)\n",
    "\n",
    "# Test Conditions\n",
    "    # type\n",
    "        # temp (degC), cooling (forced air, natural convection), input voltage (Vac), load (%, A, full load, no load)\n",
    "    # steps\n",
    "        # Input-Voltage:[99 Vac, 277 Vac] \n",
    "        # Load:[0%, 25%, 50%, 100%]\n",
    "        # Temperature:[0 degC, 25 degC, 50 degC]\n",
    "\n"
   ]
  },
  {
   "cell_type": "code",
   "execution_count": null,
   "id": "9f44dba8-0664-4fc8-8c1a-d826c553c123",
   "metadata": {},
   "outputs": [],
   "source": [
    " "
   ]
  }
 ],
 "metadata": {
  "kernelspec": {
   "display_name": "Python 3 (ipykernel)",
   "language": "python",
   "name": "python3"
  },
  "language_info": {
   "codemirror_mode": {
    "name": "ipython",
    "version": 3
   },
   "file_extension": ".py",
   "mimetype": "text/x-python",
   "name": "python",
   "nbconvert_exporter": "python",
   "pygments_lexer": "ipython3",
   "version": "3.13.5"
  }
 },
 "nbformat": 4,
 "nbformat_minor": 5
}
