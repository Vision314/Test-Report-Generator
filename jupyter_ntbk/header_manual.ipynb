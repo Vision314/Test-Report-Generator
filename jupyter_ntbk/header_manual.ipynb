{
 "cells": [
  {
   "cell_type": "code",
   "execution_count": 5,
   "id": "717d5893-578f-443f-bbb4-a0d5675a7085",
   "metadata": {},
   "outputs": [],
   "source": [
    "import pandas as pd\n",
    "import numpy as np\n",
    "import json"
   ]
  },
  {
   "cell_type": "code",
   "execution_count": 2,
   "id": "530bba0b-6bed-43e9-a737-e06e693fcbc5",
   "metadata": {},
   "outputs": [],
   "source": [
    "# Test Name\n",
    "    # Input Current\n",
    "    # No Load Input Power\n",
    "    # Inrush Current\n",
    "    # Over-Current Protection\n",
    "# Specification (units)\n",
    "    # typ, min, max\n",
    "    # (typ) 2.3A @ 99Vac\n",
    "    # (max) 150 mW @ 277 Vac\n",
    "    \n",
    "    # (typ/min/max) : (spec) (units) : (condition) (units)\n",
    "\n",
    "# Test Conditions\n",
    "    # type\n",
    "        # temp (degC), cooling (forced air, natural convection), input voltage (Vac), load (%, A, full load, no load)\n",
    "    # steps\n",
    "        # Input-Voltage:[99 Vac, 277 Vac] \n",
    "        # Load:[0%, 25%, 50%, 100%]\n",
    "        # Temperature:[0 degC, 25 degC, 50 degC]\n",
    "\n"
   ]
  },
  {
   "cell_type": "code",
   "execution_count": 4,
   "id": "9f44dba8-0664-4fc8-8c1a-d826c553c123",
   "metadata": {},
   "outputs": [],
   "source": [
    "# Test Name - str\n",
    "# Specification\n",
    "    # spec_type - str (min/max/typ)\n",
    "    # spec_val  - float\n",
    "    # spec_unit - str (V, A, W, degC)\n",
    "    # spec_notes - str\n",
    "\n",
    "    # condition_type - str (temp, input voltage, cooling)\n",
    "    # condition_val - float\n",
    "    # condition_units - str (V, Vac, A, W, degC)\n",
    "    # condition_interval - array of ints (2, 4, 9, 24)\n",
    "    # condition_notes - str"
   ]
  },
  {
   "cell_type": "code",
   "execution_count": 22,
   "id": "f9c1158d-2e5d-4350-9555-75fb5e92864d",
   "metadata": {},
   "outputs": [
    {
     "name": "stdout",
     "output_type": "stream",
     "text": [
      "{'test_name': 'Example Test', 'specification': {'spec_type': 'min', 'spec_val': 5.0, 'spec_unit': 'V', 'spec_notes': 'The minimum voltage required for operation.'}, 'condition': {'condition_type': 'temp', 'condition_units': 'degC', 'condition_interval': [2, 4, 9], 'condition_notes': 'The temperature condition at which the test was conducted.'}}\n"
     ]
    }
   ],
   "source": [
    "with open('files/setup.json', 'r') as file:\n",
    "    data = json.load(file)\n",
    "\n",
    "print(data)"
   ]
  },
  {
   "cell_type": "code",
   "execution_count": 25,
   "id": "9578dccb-43c1-48f3-bcdd-9a4756a80a7c",
   "metadata": {},
   "outputs": [],
   "source": [
    "df = pd.read_json('files/setup.json')\n"
   ]
  },
  {
   "cell_type": "code",
   "execution_count": 26,
   "id": "ae33bab1-303e-4296-b56c-2cff41af0648",
   "metadata": {},
   "outputs": [
    {
     "data": {
      "text/html": [
       "<div>\n",
       "<style scoped>\n",
       "    .dataframe tbody tr th:only-of-type {\n",
       "        vertical-align: middle;\n",
       "    }\n",
       "\n",
       "    .dataframe tbody tr th {\n",
       "        vertical-align: top;\n",
       "    }\n",
       "\n",
       "    .dataframe thead th {\n",
       "        text-align: right;\n",
       "    }\n",
       "</style>\n",
       "<table border=\"1\" class=\"dataframe\">\n",
       "  <thead>\n",
       "    <tr style=\"text-align: right;\">\n",
       "      <th></th>\n",
       "      <th>Example</th>\n",
       "      <th>Input Current</th>\n",
       "      <th>No Load Input Power</th>\n",
       "    </tr>\n",
       "  </thead>\n",
       "  <tbody>\n",
       "    <tr>\n",
       "      <th>test_name</th>\n",
       "      <td>NAME</td>\n",
       "      <td>Input Current</td>\n",
       "      <td>No Load Input Power</td>\n",
       "    </tr>\n",
       "    <tr>\n",
       "      <th>specification</th>\n",
       "      <td>{'spec_type': 'xxx', 'spec_val': 0.0, 'spec_un...</td>\n",
       "      <td>{'spec_type': ['typ', 'typ'], 'spec_val': [2.3...</td>\n",
       "      <td>{'spec_type': ['max'], 'spec_val': [150], 'spe...</td>\n",
       "    </tr>\n",
       "    <tr>\n",
       "      <th>condition</th>\n",
       "      <td>{'condition_type': 'XXX', 'condition_units': '...</td>\n",
       "      <td>NaN</td>\n",
       "      <td>NaN</td>\n",
       "    </tr>\n",
       "    <tr>\n",
       "      <th>conditions</th>\n",
       "      <td>NaN</td>\n",
       "      <td>{'condition_type': 'Input Voltage', 'condition...</td>\n",
       "      <td>{'condition_type': 'Input Voltage', 'condition...</td>\n",
       "    </tr>\n",
       "  </tbody>\n",
       "</table>\n",
       "</div>"
      ],
      "text/plain": [
       "                                                         Example  \\\n",
       "test_name                                                   NAME   \n",
       "specification  {'spec_type': 'xxx', 'spec_val': 0.0, 'spec_un...   \n",
       "condition      {'condition_type': 'XXX', 'condition_units': '...   \n",
       "conditions                                                   NaN   \n",
       "\n",
       "                                                   Input Current  \\\n",
       "test_name                                          Input Current   \n",
       "specification  {'spec_type': ['typ', 'typ'], 'spec_val': [2.3...   \n",
       "condition                                                    NaN   \n",
       "conditions     {'condition_type': 'Input Voltage', 'condition...   \n",
       "\n",
       "                                             No Load Input Power  \n",
       "test_name                                    No Load Input Power  \n",
       "specification  {'spec_type': ['max'], 'spec_val': [150], 'spe...  \n",
       "condition                                                    NaN  \n",
       "conditions     {'condition_type': 'Input Voltage', 'condition...  "
      ]
     },
     "execution_count": 26,
     "metadata": {},
     "output_type": "execute_result"
    }
   ],
   "source": []
  },
  {
   "cell_type": "code",
   "execution_count": null,
   "id": "5a6e6149-db01-4cc4-b095-44eca1ac4ccd",
   "metadata": {},
   "outputs": [],
   "source": []
  }
 ],
 "metadata": {
  "kernelspec": {
   "display_name": "Python 3 (ipykernel)",
   "language": "python",
   "name": "python3"
  },
  "language_info": {
   "codemirror_mode": {
    "name": "ipython",
    "version": 3
   },
   "file_extension": ".py",
   "mimetype": "text/x-python",
   "name": "python",
   "nbconvert_exporter": "python",
   "pygments_lexer": "ipython3",
   "version": "3.13.5"
  }
 },
 "nbformat": 4,
 "nbformat_minor": 5
}
