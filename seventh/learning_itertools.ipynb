{
 "cells": [
  {
   "cell_type": "code",
   "execution_count": 1,
   "id": "c14874f7",
   "metadata": {},
   "outputs": [],
   "source": [
    "import itertools"
   ]
  },
  {
   "cell_type": "code",
   "execution_count": 9,
   "id": "7fa35b01",
   "metadata": {},
   "outputs": [
    {
     "name": "stdout",
     "output_type": "stream",
     "text": [
      "0: A\n",
      "1: B\n",
      "2: C\n",
      "3: A\n",
      "4: B\n",
      "5: C\n",
      "6: A\n",
      "7: B\n",
      "8: C\n",
      "9: A\n",
      "10: B\n",
      "11: C\n",
      "12: A\n",
      "13: B\n",
      "14: C\n",
      "15: A\n",
      "16: B\n",
      "17: C\n",
      "18: A\n",
      "19: B\n",
      "20: C\n"
     ]
    }
   ],
   "source": [
    "l = ['A', 'B', 'C']\n",
    "cycler = itertools.cycle(l)\n",
    "\n",
    "for i, letter in enumerate(cycler):\n",
    "    print(i, letter, sep=': ')\n",
    "\n",
    "    if i == 20:\n",
    "        break"
   ]
  },
  {
   "cell_type": "code",
   "execution_count": 10,
   "id": "899ad0fe",
   "metadata": {},
   "outputs": [
    {
     "name": "stdout",
     "output_type": "stream",
     "text": [
      "['String', 'String', 'String', 'String', 'String', 'String', 'String', 'String', 'String', 'String']\n"
     ]
    }
   ],
   "source": [
    "string = 'String'\n",
    "repeater = itertools.repeat(string, 10)\n",
    "\n",
    "print(list(repeater))"
   ]
  },
  {
   "cell_type": "code",
   "execution_count": 11,
   "id": "31fa1d2d",
   "metadata": {},
   "outputs": [],
   "source": [
    "# count() \n",
    "# cycle()\n",
    "# repeat()"
   ]
  },
  {
   "cell_type": "code",
   "execution_count": 14,
   "id": "059631d2",
   "metadata": {},
   "outputs": [
    {
     "name": "stdout",
     "output_type": "stream",
     "text": [
      "[1, 2, 6, 24, 120]\n"
     ]
    }
   ],
   "source": [
    "import operator\n",
    "\n",
    "numbers = [1, 2, 3, 4, 5]\n",
    "accumulation = itertools.accumulate(numbers, operator.mul)\n",
    "\n",
    "print(list(accumulation))"
   ]
  },
  {
   "cell_type": "code",
   "execution_count": null,
   "id": "c490f7e2",
   "metadata": {},
   "outputs": [
    {
     "name": "stdout",
     "output_type": "stream",
     "text": [
      "[1, 2, 3, 'a', 'b', 'c']\n"
     ]
    }
   ],
   "source": [
    "a = [1, 2, 3]\n",
    "b = ['a', 'b', 'c']\n",
    "\n",
    "combined = itertools.chain(a, b)\n",
    "print(list(combined))"
   ]
  },
  {
   "cell_type": "code",
   "execution_count": 17,
   "id": "96f2e62c",
   "metadata": {},
   "outputs": [
    {
     "name": "stdout",
     "output_type": "stream",
     "text": [
      "['b', 'c']\n"
     ]
    }
   ],
   "source": [
    "l = ['a', 'b', 'c', 'd']\n",
    "selectors = [0, 1, 1, 0]\n",
    "\n",
    "compressed = itertools.compress(l, selectors)\n",
    "print(list(compressed))"
   ]
  },
  {
   "cell_type": "code",
   "execution_count": 18,
   "id": "a5d9d068",
   "metadata": {},
   "outputs": [
    {
     "name": "stdout",
     "output_type": "stream",
     "text": [
      "[3, 4, 5, 6, 7]\n"
     ]
    }
   ],
   "source": [
    "l = [1, 2, 3, 4, 5, 6, 7]\n",
    "\n",
    "remaining = itertools.dropwhile(lambda n: n < 3, l)\n",
    "print(list(remaining))"
   ]
  },
  {
   "cell_type": "code",
   "execution_count": 19,
   "id": "92924ef2",
   "metadata": {},
   "outputs": [
    {
     "name": "stdout",
     "output_type": "stream",
     "text": [
      "[0, 10, 20, 30, 40, 50, 60, 70, 80, 90]\n"
     ]
    }
   ],
   "source": [
    "l = range(100)\n",
    "\n",
    "filtered = itertools.filterfalse(lambda n: n % 10, l)\n",
    "\n",
    "print(list(filtered))"
   ]
  },
  {
   "cell_type": "code",
   "execution_count": 23,
   "id": "aad49acb",
   "metadata": {},
   "outputs": [
    {
     "name": "stdout",
     "output_type": "stream",
     "text": [
      "(1, 'a', 1, 'a')\n",
      "(1, 'a', 2, 'a')\n",
      "(1, 'a', 3, 'a')\n",
      "(2, 'a', 1, 'a')\n",
      "(2, 'a', 2, 'a')\n",
      "(2, 'a', 3, 'a')\n",
      "(3, 'a', 1, 'a')\n",
      "(3, 'a', 2, 'a')\n",
      "(3, 'a', 3, 'a')\n"
     ]
    }
   ],
   "source": [
    "a = [1, 2, 3]\n",
    "b = ['a']\n",
    "\n",
    "output = itertools.product(a, b, repeat=2)\n",
    "\n",
    "for t in list(output):\n",
    "    print(t)"
   ]
  },
  {
   "cell_type": "code",
   "execution_count": null,
   "id": "c9f8174a",
   "metadata": {},
   "outputs": [],
   "source": []
  }
 ],
 "metadata": {
  "kernelspec": {
   "display_name": "Python 3",
   "language": "python",
   "name": "python3"
  },
  "language_info": {
   "codemirror_mode": {
    "name": "ipython",
    "version": 3
   },
   "file_extension": ".py",
   "mimetype": "text/x-python",
   "name": "python",
   "nbconvert_exporter": "python",
   "pygments_lexer": "ipython3",
   "version": "3.13.5"
  }
 },
 "nbformat": 4,
 "nbformat_minor": 5
}
