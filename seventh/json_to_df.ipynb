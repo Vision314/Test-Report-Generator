{
 "cells": [
  {
   "cell_type": "code",
   "execution_count": 15,
   "id": "a6518237",
   "metadata": {},
   "outputs": [],
   "source": [
    "import json\n",
    "import pandas as pd"
   ]
  },
  {
   "cell_type": "code",
   "execution_count": 16,
   "id": "6ee419d8",
   "metadata": {},
   "outputs": [],
   "source": [
    "path = r\"test_description.json\"\n",
    "\n",
    "with open(path, 'r') as file:\n",
    "    test_descriptions = json.load(file)\n",
    "\n"
   ]
  },
  {
   "cell_type": "code",
   "execution_count": null,
   "id": "285ebe51",
   "metadata": {},
   "outputs": [],
   "source": []
  },
  {
   "cell_type": "code",
   "execution_count": 23,
   "id": "7072ed3d",
   "metadata": {},
   "outputs": [],
   "source": [
    "df = pd.DataFrame()\n",
    "\n",
    "# add the condition 1 column\n",
    "df[test_descriptions['condition1']['names']] = test_descriptions['condition1']['names']"
   ]
  },
  {
   "cell_type": "code",
   "execution_count": null,
   "id": "f4ce103b",
   "metadata": {},
   "outputs": [],
   "source": []
  },
  {
   "cell_type": "code",
   "execution_count": null,
   "id": "4fdc6fb7",
   "metadata": {},
   "outputs": [
    {
     "name": "stdout",
     "output_type": "stream",
     "text": [
      "metadata\n",
      "{'<C1>': '', '<C2>': '', '<re>': '', '<SP>': '', '<CA>': ''}\n",
      "basic_info\n",
      "{'category': 'Input', 'test_name': 'Input Current', 'description': ''}\n",
      "condition1\n",
      "{'names': 'Input Voltage', 'units': 'V', 'values': '99, 120, 240'}\n",
      "condition2\n",
      "{'names': '', 'units': '', 'values': ''}\n",
      "table_conditions\n",
      "{'names': '', 'units': '', 'values': ''}\n",
      "results\n",
      "{'names': '', 'units': 'A', 'values': ''}\n",
      "specifications\n",
      "{'names': '', 'units': '', 'values': '', 'connections': '', 'types': ''}\n",
      "calculations\n",
      "{'names': 'RMS Current, RMS Current', 'units': 'A, A', 'connection': 'CN->Output Current, CN->Temperature', 'equations': '=C4+D4, =E4+F4'}\n"
     ]
    }
   ],
   "source": [
    "for key, value in test_descriptions.items():\n",
    "    if not key == '':\n",
    "        df[value['names']] = test_descriptions[]"
   ]
  },
  {
   "cell_type": "code",
   "execution_count": null,
   "id": "afb963ce",
   "metadata": {},
   "outputs": [
    {
     "data": {
      "text/plain": [
       "{'category': 'Input', 'test_name': 'Input Current', 'description': ''}"
      ]
     },
     "execution_count": 29,
     "metadata": {},
     "output_type": "execute_result"
    }
   ],
   "source": [
    "class Test:\n",
    "    def __init__(self, test_descriptions: dict = {}):\n",
    "        \n",
    "        self.condition_list = self.init_cond()\n",
    "        self.tc_list = self.init_tc()\n",
    "\n",
    "    def init_cond(self, test_descriptions: dict={}):\n",
    "        \n",
    "        for \n",
    "\n",
    "    def add_cond(self,):\n",
    "        pass\n",
    "\n",
    "    def add_tc(self):\n",
    "        pass\n",
    "\n",
    "\n",
    "test.basic_info"
   ]
  },
  {
   "cell_type": "code",
   "execution_count": null,
   "id": "537378a2",
   "metadata": {},
   "outputs": [],
   "source": []
  }
 ],
 "metadata": {
  "kernelspec": {
   "display_name": "Python 3",
   "language": "python",
   "name": "python3"
  },
  "language_info": {
   "codemirror_mode": {
    "name": "ipython",
    "version": 3
   },
   "file_extension": ".py",
   "mimetype": "text/x-python",
   "name": "python",
   "nbconvert_exporter": "python",
   "pygments_lexer": "ipython3",
   "version": "3.13.5"
  }
 },
 "nbformat": 4,
 "nbformat_minor": 5
}
