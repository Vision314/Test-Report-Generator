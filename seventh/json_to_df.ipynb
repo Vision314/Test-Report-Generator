{
 "cells": [
  {
   "cell_type": "code",
   "execution_count": 141,
   "id": "a6518237",
   "metadata": {},
   "outputs": [],
   "source": [
    "import importlib\n",
    "import cover_page\n",
    "import test_report\n",
    "import test_subclass\n",
    "importlib.reload(cover_page)\n",
    "importlib.reload(test_report)\n",
    "importlib.reload(test_subclass)\n",
    "\n",
    "import json\n",
    "import pandas as pd\n",
    "from cover_page import *\n",
    "from test_report import *\n",
    "from test_subclass import *"
   ]
  },
  {
   "cell_type": "code",
   "execution_count": 142,
   "id": "58a3c83c",
   "metadata": {},
   "outputs": [],
   "source": [
    "import json\n",
    "import pandas as pd\n",
    "from cover_page import *\n",
    "from test_report import *\n",
    "from test_subclass import *"
   ]
  },
  {
   "cell_type": "code",
   "execution_count": 143,
   "id": "df01262b",
   "metadata": {},
   "outputs": [],
   "source": [
    "test_report = TestReport(\"Sample Report\")"
   ]
  },
  {
   "cell_type": "code",
   "execution_count": 144,
   "id": "b3f973d4",
   "metadata": {},
   "outputs": [
    {
     "name": "stdout",
     "output_type": "stream",
     "text": [
      "A new test has been created!\n"
     ]
    }
   ],
   "source": [
    "test_report.add_test(\"Input\", \"Input Current\")"
   ]
  },
  {
   "cell_type": "code",
   "execution_count": 145,
   "id": "d027ea3c",
   "metadata": {},
   "outputs": [
    {
     "data": {
      "text/plain": [
       "{}"
      ]
     },
     "execution_count": 145,
     "metadata": {},
     "output_type": "execute_result"
    }
   ],
   "source": [
    "test_report.get_table_conditions()"
   ]
  },
  {
   "cell_type": "code",
   "execution_count": 151,
   "id": "ac345f30",
   "metadata": {},
   "outputs": [
    {
     "name": "stdout",
     "output_type": "stream",
     "text": [
      "[3, 2]\n",
      "6\n",
      "[3, 2, 3]\n",
      "18\n"
     ]
    }
   ],
   "source": [
    "test_report.add_TC('Temperature (C)', [40, 90, 160])\n",
    "test_report.add_TC('Input Voltage (Vac)', [99, 120])\n",
    "print(test_report.get_shape_of_table_arr())\n",
    "print(test_report.get_num_of_tables())\n",
    "test_report.add_TC('Random', [1, 2, 3])\n",
    "print(test_report.get_shape_of_table_arr())\n",
    "print(test_report.get_num_of_tables())"
   ]
  },
  {
   "cell_type": "code",
   "execution_count": 147,
   "id": "22528499",
   "metadata": {},
   "outputs": [
    {
     "data": {
      "text/plain": [
       "{'Temperature (C)': [40, 90, 160], 'Input Voltage (Vac)': [99, 120]}"
      ]
     },
     "execution_count": 147,
     "metadata": {},
     "output_type": "execute_result"
    }
   ],
   "source": [
    "# test_report.get_shape_of_table_arr()\n",
    "test_report.get_table_conditions()"
   ]
  },
  {
   "cell_type": "code",
   "execution_count": 148,
   "id": "5973a107",
   "metadata": {},
   "outputs": [
    {
     "name": "stdout",
     "output_type": "stream",
     "text": [
      "[3, 2]\n",
      "6\n"
     ]
    }
   ],
   "source": [
    "print(test_report.get_shape_of_table_arr())\n",
    "print(test_report.get_num_of_tables())"
   ]
  },
  {
   "cell_type": "code",
   "execution_count": null,
   "id": "c3b4f3e8",
   "metadata": {},
   "outputs": [],
   "source": []
  },
  {
   "cell_type": "code",
   "execution_count": 149,
   "id": "673fe410",
   "metadata": {},
   "outputs": [],
   "source": [
    "new_equipment = {\n",
    "                'Equipment Type': 'Oscilloscope', \n",
    "                'Manufacturer': 'Globtek',\n",
    "                'Model': 'T400',\n",
    "                'Description': 'dont worry bout it',\n",
    "                'S/N': '33333',\n",
    "                'Last Calibrated': '3/6/1955',\n",
    "                'Calibration Due': 'Yesterday'\n",
    "}\n"
   ]
  },
  {
   "cell_type": "code",
   "execution_count": 150,
   "id": "7bca4382",
   "metadata": {},
   "outputs": [
    {
     "ename": "EOFError",
     "evalue": "Ran out of input",
     "output_type": "error",
     "traceback": [
      "\u001b[31m---------------------------------------------------------------------------\u001b[39m",
      "\u001b[31mEOFError\u001b[39m                                  Traceback (most recent call last)",
      "\u001b[36mCell\u001b[39m\u001b[36m \u001b[39m\u001b[32mIn[150]\u001b[39m\u001b[32m, line 4\u001b[39m\n\u001b[32m      1\u001b[39m pickled_test_report = \u001b[33m'\u001b[39m\u001b[33mSample Report.pickle\u001b[39m\u001b[33m'\u001b[39m\n\u001b[32m      3\u001b[39m \u001b[38;5;28;01mwith\u001b[39;00m \u001b[38;5;28mopen\u001b[39m(pickled_test_report, \u001b[33m'\u001b[39m\u001b[33mrb\u001b[39m\u001b[33m'\u001b[39m) \u001b[38;5;28;01mas\u001b[39;00m file:\n\u001b[32m----> \u001b[39m\u001b[32m4\u001b[39m     sr = \u001b[43mpickle\u001b[49m\u001b[43m.\u001b[49m\u001b[43mload\u001b[49m\u001b[43m(\u001b[49m\u001b[43mfile\u001b[49m\u001b[43m)\u001b[49m\n\u001b[32m      6\u001b[39m sr.get_equipment_used()\n",
      "\u001b[31mEOFError\u001b[39m: Ran out of input"
     ]
    }
   ],
   "source": [
    "pickled_test_report = 'Sample Report.pickle'\n",
    "\n",
    "with open(pickled_test_report, 'rb') as file:\n",
    "    sr = pickle.load(file)\n",
    "\n",
    "sr.get_equipment_used()"
   ]
  },
  {
   "cell_type": "code",
   "execution_count": null,
   "id": "e3871384",
   "metadata": {},
   "outputs": [],
   "source": []
  }
 ],
 "metadata": {
  "kernelspec": {
   "display_name": "Python 3",
   "language": "python",
   "name": "python3"
  },
  "language_info": {
   "codemirror_mode": {
    "name": "ipython",
    "version": 3
   },
   "file_extension": ".py",
   "mimetype": "text/x-python",
   "name": "python",
   "nbconvert_exporter": "python",
   "pygments_lexer": "ipython3",
   "version": "3.13.5"
  }
 },
 "nbformat": 4,
 "nbformat_minor": 5
}
