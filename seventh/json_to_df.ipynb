{
 "cells": [
  {
   "cell_type": "code",
   "execution_count": 65,
   "id": "a6518237",
   "metadata": {},
   "outputs": [],
   "source": [
    "import importlib\n",
    "import cover_page\n",
    "importlib.reload(cover_page)\n",
    "\n",
    "import json\n",
    "import pandas as pd\n",
    "from cover_page import *"
   ]
  },
  {
   "cell_type": "code",
   "execution_count": 66,
   "id": "acaf713c",
   "metadata": {},
   "outputs": [],
   "source": [
    "cp = CoverPage()"
   ]
  },
  {
   "cell_type": "code",
   "execution_count": 67,
   "id": "27ff8b3d",
   "metadata": {},
   "outputs": [
    {
     "data": {
      "text/plain": [
       "Index(['Equipment Type', 'Manufacturer', 'Model', 'Description', 'S/N',\n",
       "       'Last Calibrated', 'Calibration Due'],\n",
       "      dtype='object')"
      ]
     },
     "execution_count": 67,
     "metadata": {},
     "output_type": "execute_result"
    }
   ],
   "source": [
    "cp.equipment_used.columns "
   ]
  },
  {
   "cell_type": "code",
   "execution_count": 68,
   "id": "673fe410",
   "metadata": {},
   "outputs": [],
   "source": [
    "new_equipment = {\n",
    "                'Equipment Type': 'Oscilloscope', \n",
    "                'Manufacturer': 'Globtek',\n",
    "                'Model': 'T400',\n",
    "                'Description': 'dont worry bout it',\n",
    "                'S/N': '33333',\n",
    "                'Last Calibrated': '3/6/1955',\n",
    "                'Calibration Due': 'Yesterday'\n",
    "}\n",
    "\n",
    "cp.add_equipment(new_equipment)"
   ]
  },
  {
   "cell_type": "code",
   "execution_count": 69,
   "id": "a0806d9a",
   "metadata": {},
   "outputs": [
    {
     "data": {
      "text/html": [
       "<div>\n",
       "<style scoped>\n",
       "    .dataframe tbody tr th:only-of-type {\n",
       "        vertical-align: middle;\n",
       "    }\n",
       "\n",
       "    .dataframe tbody tr th {\n",
       "        vertical-align: top;\n",
       "    }\n",
       "\n",
       "    .dataframe thead th {\n",
       "        text-align: right;\n",
       "    }\n",
       "</style>\n",
       "<table border=\"1\" class=\"dataframe\">\n",
       "  <thead>\n",
       "    <tr style=\"text-align: right;\">\n",
       "      <th></th>\n",
       "      <th>Equipment Type</th>\n",
       "      <th>Manufacturer</th>\n",
       "      <th>Model</th>\n",
       "      <th>Description</th>\n",
       "      <th>S/N</th>\n",
       "      <th>Last Calibrated</th>\n",
       "      <th>Calibration Due</th>\n",
       "    </tr>\n",
       "  </thead>\n",
       "  <tbody>\n",
       "    <tr>\n",
       "      <th>0</th>\n",
       "      <td>Oscilloscope</td>\n",
       "      <td>Globtek</td>\n",
       "      <td>T400</td>\n",
       "      <td>dont worry bout it</td>\n",
       "      <td>33333</td>\n",
       "      <td>3/6/1955</td>\n",
       "      <td>Yesterday</td>\n",
       "    </tr>\n",
       "  </tbody>\n",
       "</table>\n",
       "</div>"
      ],
      "text/plain": [
       "  Equipment Type Manufacturer Model         Description    S/N  \\\n",
       "0   Oscilloscope      Globtek  T400  dont worry bout it  33333   \n",
       "\n",
       "  Last Calibrated Calibration Due  \n",
       "0        3/6/1955       Yesterday  "
      ]
     },
     "execution_count": 69,
     "metadata": {},
     "output_type": "execute_result"
    }
   ],
   "source": [
    "cp.equipment_used"
   ]
  },
  {
   "cell_type": "code",
   "execution_count": 70,
   "id": "5eb971cf",
   "metadata": {},
   "outputs": [],
   "source": [
    "pickle_object(cp, 'cover_page.pickle')"
   ]
  },
  {
   "cell_type": "code",
   "execution_count": 74,
   "id": "7bca4382",
   "metadata": {},
   "outputs": [],
   "source": [
    "pickled_cp = 'cover_page.pickle'\n",
    "\n",
    "with open(pickled_cp, 'rb') as file:\n",
    "    cp2 = pickle.load(file)\n"
   ]
  },
  {
   "cell_type": "code",
   "execution_count": 75,
   "id": "3973d9ea",
   "metadata": {},
   "outputs": [
    {
     "data": {
      "text/html": [
       "<div>\n",
       "<style scoped>\n",
       "    .dataframe tbody tr th:only-of-type {\n",
       "        vertical-align: middle;\n",
       "    }\n",
       "\n",
       "    .dataframe tbody tr th {\n",
       "        vertical-align: top;\n",
       "    }\n",
       "\n",
       "    .dataframe thead th {\n",
       "        text-align: right;\n",
       "    }\n",
       "</style>\n",
       "<table border=\"1\" class=\"dataframe\">\n",
       "  <thead>\n",
       "    <tr style=\"text-align: right;\">\n",
       "      <th></th>\n",
       "      <th>Equipment Type</th>\n",
       "      <th>Manufacturer</th>\n",
       "      <th>Model</th>\n",
       "      <th>Description</th>\n",
       "      <th>S/N</th>\n",
       "      <th>Last Calibrated</th>\n",
       "      <th>Calibration Due</th>\n",
       "    </tr>\n",
       "  </thead>\n",
       "  <tbody>\n",
       "    <tr>\n",
       "      <th>0</th>\n",
       "      <td>Oscilloscope</td>\n",
       "      <td>Globtek</td>\n",
       "      <td>T400</td>\n",
       "      <td>dont worry bout it</td>\n",
       "      <td>33333</td>\n",
       "      <td>3/6/1955</td>\n",
       "      <td>Yesterday</td>\n",
       "    </tr>\n",
       "  </tbody>\n",
       "</table>\n",
       "</div>"
      ],
      "text/plain": [
       "  Equipment Type Manufacturer Model         Description    S/N  \\\n",
       "0   Oscilloscope      Globtek  T400  dont worry bout it  33333   \n",
       "\n",
       "  Last Calibrated Calibration Due  \n",
       "0        3/6/1955       Yesterday  "
      ]
     },
     "execution_count": 75,
     "metadata": {},
     "output_type": "execute_result"
    }
   ],
   "source": [
    "cp2.equipment_used"
   ]
  },
  {
   "cell_type": "code",
   "execution_count": null,
   "id": "63c88334",
   "metadata": {},
   "outputs": [],
   "source": []
  }
 ],
 "metadata": {
  "kernelspec": {
   "display_name": "Python 3",
   "language": "python",
   "name": "python3"
  },
  "language_info": {
   "codemirror_mode": {
    "name": "ipython",
    "version": 3
   },
   "file_extension": ".py",
   "mimetype": "text/x-python",
   "name": "python",
   "nbconvert_exporter": "python",
   "pygments_lexer": "ipython3",
   "version": "3.13.5"
  }
 },
 "nbformat": 4,
 "nbformat_minor": 5
}
