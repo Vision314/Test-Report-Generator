{
 "cells": [
  {
   "cell_type": "code",
   "execution_count": 357,
   "id": "16b1b023",
   "metadata": {},
   "outputs": [],
   "source": [
    "# Reload the tables module to get the latest version\n",
    "import importlib\n",
    "import tables\n",
    "importlib.reload(tables)\n",
    "from tables import Tables\n",
    "import json\n",
    "\n",
    "# Test the CSV export functions\n",
    "import sys\n",
    "sys.path.append('.')\n",
    "import importlib\n",
    "import export_utils\n",
    "importlib.reload(export_utils)\n",
    "from export_utils import *\n",
    "import os\n",
    "import pandas as pd\n",
    "\n"
   ]
  },
  {
   "cell_type": "code",
   "execution_count": 358,
   "id": "bee6118c",
   "metadata": {},
   "outputs": [],
   "source": [
    "path = r\"C:\\Users\\enfxm\\Desktop\\Python Testing\\Test Report Template\\Test-Report-Generator\\fifth\\latex_generation_test001\\test_descriptions.json\"\n",
    "\n",
    "\n",
    "with open(path, 'r') as file:\n",
    "    data = json.load(file)\n",
    "\n",
    "test1_tables = Tables(table_metadata=data)\n",
    "\n"
   ]
  },
  {
   "cell_type": "code",
   "execution_count": 359,
   "id": "fbfc2e34",
   "metadata": {},
   "outputs": [
    {
     "name": "stdout",
     "output_type": "stream",
     "text": [
      "Table conditions parsed:\n",
      "Names: ['Grounding Config', 'Temp']\n",
      "Values: [['F1', 'F2', 'F3', 'F4', 'F5'], ['40', '150']]\n",
      "Shape: (5, 2)\n",
      "Number of tables: 10\n"
     ]
    }
   ],
   "source": [
    "# Test: How does current code handle multi-dimensional table conditions?\n",
    "print(\"Table conditions parsed:\")\n",
    "print(\"Names:\", test1_tables.table_conditions['names'])\n",
    "print(\"Values:\", test1_tables.table_conditions['values'])\n",
    "print(\"Shape:\", test1_tables.shape)\n",
    "print(\"Number of tables:\", test1_tables.get_table_count())"
   ]
  },
  {
   "cell_type": "code",
   "execution_count": 360,
   "id": "08a9f947",
   "metadata": {},
   "outputs": [
    {
     "name": "stdout",
     "output_type": "stream",
     "text": [
      "FIXED - Table conditions parsed:\n",
      "Names: ['Grounding Config', 'Temp']\n",
      "Values: [['F1', 'F2', 'F3', 'F4', 'F5'], ['40', '150']]\n",
      "Dimensions: 2\n",
      "Shape: (5, 2)\n",
      "Number of tables: 10\n"
     ]
    }
   ],
   "source": [
    "# Test the fixed multi-dimensional parsing\n",
    "importlib.reload(tables)\n",
    "from tables import Tables\n",
    "\n",
    "test1_tables = Tables(table_metadata=data)\n",
    "print(\"FIXED - Table conditions parsed:\")\n",
    "print(\"Names:\", test1_tables.table_conditions['names'])\n",
    "print(\"Values:\", test1_tables.table_conditions['values'])\n",
    "print(\"Dimensions:\", test1_tables.dimensions)\n",
    "print(\"Shape:\", test1_tables.shape)\n",
    "print(\"Number of tables:\", test1_tables.get_table_count())"
   ]
  },
  {
   "cell_type": "code",
   "execution_count": 367,
   "id": "c57091c6",
   "metadata": {},
   "outputs": [
    {
     "name": "stdout",
     "output_type": "stream",
     "text": [
      "Table conditions:\n"
     ]
    },
    {
     "ename": "AttributeError",
     "evalue": "'DataFrame' object has no attribute 'table_conditions'",
     "output_type": "error",
     "traceback": [
      "\u001b[31m---------------------------------------------------------------------------\u001b[39m",
      "\u001b[31mAttributeError\u001b[39m                            Traceback (most recent call last)",
      "\u001b[32m~\\AppData\\Local\\Temp\\ipykernel_5124\\2680965774.py\u001b[39m in \u001b[36m?\u001b[39m\u001b[34m()\u001b[39m\n\u001b[32m      1\u001b[39m \u001b[38;5;28;01mfor\u001b[39;00m table \u001b[38;5;28;01min\u001b[39;00m test1_tables.get_all_tables():\n\u001b[32m      2\u001b[39m     \u001b[38;5;66;03m# print the condtions of each table\u001b[39;00m\n\u001b[32m      3\u001b[39m     print(\u001b[33m\"Table conditions:\"\u001b[39m)\n\u001b[32m----> \u001b[39m\u001b[32m4\u001b[39m     print(\u001b[33m\"Names:\"\u001b[39m, table.table_conditions[\u001b[33m'names'\u001b[39m])\n\u001b[32m      5\u001b[39m     print(\u001b[33m\"Values:\"\u001b[39m, table.table_conditions[\u001b[33m'values'\u001b[39m])\n",
      "\u001b[32mc:\\Users\\enfxm\\AppData\\Local\\Programs\\Python\\Python313\\Lib\\site-packages\\pandas\\core\\generic.py\u001b[39m in \u001b[36m?\u001b[39m\u001b[34m(self, name)\u001b[39m\n\u001b[32m   6314\u001b[39m             \u001b[38;5;28;01mand\u001b[39;00m name \u001b[38;5;28;01mnot\u001b[39;00m \u001b[38;5;28;01min\u001b[39;00m self._accessors\n\u001b[32m   6315\u001b[39m             \u001b[38;5;28;01mand\u001b[39;00m self._info_axis._can_hold_identifiers_and_holds_name(name)\n\u001b[32m   6316\u001b[39m         ):\n\u001b[32m   6317\u001b[39m             \u001b[38;5;28;01mreturn\u001b[39;00m self[name]\n\u001b[32m-> \u001b[39m\u001b[32m6318\u001b[39m         \u001b[38;5;28;01mreturn\u001b[39;00m object.__getattribute__(self, name)\n",
      "\u001b[31mAttributeError\u001b[39m: 'DataFrame' object has no attribute 'table_conditions'"
     ]
    }
   ],
   "source": [
    "for table in test1_tables.get_all_tables():\n",
    "    # print the condtions of each table\n",
    "    print(\"Table conditions:\")\n",
    "    print(\"Names:\", table.table_conditions['names'])\n",
    "    print(\"Values:\", table.table_conditions['values'])\n"
   ]
  },
  {
   "cell_type": "code",
   "execution_count": 361,
   "id": "d5e88d83",
   "metadata": {},
   "outputs": [
    {
     "data": {
      "text/html": [
       "<div>\n",
       "<style scoped>\n",
       "    .dataframe tbody tr th:only-of-type {\n",
       "        vertical-align: middle;\n",
       "    }\n",
       "\n",
       "    .dataframe tbody tr th {\n",
       "        vertical-align: top;\n",
       "    }\n",
       "\n",
       "    .dataframe thead th {\n",
       "        text-align: right;\n",
       "    }\n",
       "</style>\n",
       "<table border=\"1\" class=\"dataframe\">\n",
       "  <thead>\n",
       "    <tr style=\"text-align: right;\">\n",
       "      <th></th>\n",
       "      <th>0</th>\n",
       "      <th>1</th>\n",
       "      <th>2</th>\n",
       "      <th>3</th>\n",
       "      <th>4</th>\n",
       "      <th>5</th>\n",
       "      <th>6</th>\n",
       "      <th>7</th>\n",
       "      <th>8</th>\n",
       "      <th>9</th>\n",
       "      <th>10</th>\n",
       "      <th>11</th>\n",
       "    </tr>\n",
       "  </thead>\n",
       "  <tbody>\n",
       "    <tr>\n",
       "      <th>0</th>\n",
       "      <td>--</td>\n",
       "      <td>--</td>\n",
       "      <td>Frequency (MHz)</td>\n",
       "      <td>Frequency (MHz)</td>\n",
       "      <td>Frequency (MHz)</td>\n",
       "      <td>Frequency (MHz)</td>\n",
       "      <td>Frequency (MHz)</td>\n",
       "      <td>Load (W)</td>\n",
       "      <td>Load (W)</td>\n",
       "      <td>Load (W)</td>\n",
       "      <td>Load (W)</td>\n",
       "      <td>Load (W)</td>\n",
       "    </tr>\n",
       "    <tr>\n",
       "      <th>1</th>\n",
       "      <td>--</td>\n",
       "      <td>--</td>\n",
       "      <td>1</td>\n",
       "      <td>10</td>\n",
       "      <td>20</td>\n",
       "      <td>40</td>\n",
       "      <td>50</td>\n",
       "      <td>0</td>\n",
       "      <td>25</td>\n",
       "      <td>50</td>\n",
       "      <td>75</td>\n",
       "      <td>100</td>\n",
       "    </tr>\n",
       "    <tr>\n",
       "      <th>2</th>\n",
       "      <td>Input Voltage (V)</td>\n",
       "      <td>99</td>\n",
       "      <td>--</td>\n",
       "      <td>--</td>\n",
       "      <td>--</td>\n",
       "      <td>--</td>\n",
       "      <td>--</td>\n",
       "      <td>--</td>\n",
       "      <td>--</td>\n",
       "      <td>--</td>\n",
       "      <td>--</td>\n",
       "      <td>--</td>\n",
       "    </tr>\n",
       "    <tr>\n",
       "      <th>3</th>\n",
       "      <td>Input Voltage (V)</td>\n",
       "      <td>277</td>\n",
       "      <td>--</td>\n",
       "      <td>--</td>\n",
       "      <td>--</td>\n",
       "      <td>--</td>\n",
       "      <td>--</td>\n",
       "      <td>--</td>\n",
       "      <td>--</td>\n",
       "      <td>--</td>\n",
       "      <td>--</td>\n",
       "      <td>--</td>\n",
       "    </tr>\n",
       "  </tbody>\n",
       "</table>\n",
       "</div>"
      ],
      "text/plain": [
       "                  0    1                2                3                4   \\\n",
       "0                 --   --  Frequency (MHz)  Frequency (MHz)  Frequency (MHz)   \n",
       "1                 --   --                1               10               20   \n",
       "2  Input Voltage (V)   99               --               --               --   \n",
       "3  Input Voltage (V)  277               --               --               --   \n",
       "\n",
       "                5                6         7         8         9         10  \\\n",
       "0  Frequency (MHz)  Frequency (MHz)  Load (W)  Load (W)  Load (W)  Load (W)   \n",
       "1               40               50         0        25        50        75   \n",
       "2               --               --        --        --        --        --   \n",
       "3               --               --        --        --        --        --   \n",
       "\n",
       "         11  \n",
       "0  Load (W)  \n",
       "1       100  \n",
       "2        --  \n",
       "3        --  "
      ]
     },
     "execution_count": 361,
     "metadata": {},
     "output_type": "execute_result"
    }
   ],
   "source": [
    "test1_tables.get_all_tables()[0].head(70)"
   ]
  },
  {
   "cell_type": "code",
   "execution_count": 362,
   "id": "ee6dfd82",
   "metadata": {},
   "outputs": [
    {
     "name": "stdout",
     "output_type": "stream",
     "text": [
      "=== Testing CSV Export ===\n",
      "Exported 10 tables to C:\\Users\\enfxm\\Desktop\\Python Testing\\Test Report Template\\Test-Report-Generator\\fifth\\csv_output\n",
      "Created tables.csv with table information\n"
     ]
    }
   ],
   "source": [
    "\n",
    "\n",
    "# Create output directory\n",
    "output_dir = r\"C:\\Users\\enfxm\\Desktop\\Python Testing\\Test Report Template\\Test-Report-Generator\\fifth\\csv_output\"\n",
    "os.makedirs(output_dir, exist_ok=True)\n",
    "\n",
    "# Test the export function\n",
    "print(\"=== Testing CSV Export ===\")\n",
    "created_files = tables_to_csv(test1_tables, output_dir)\n"
   ]
  },
  {
   "cell_type": "code",
   "execution_count": 363,
   "id": "6bce6ac3",
   "metadata": {},
   "outputs": [
    {
     "name": "stdout",
     "output_type": "stream",
     "text": [
      "Converted C:\\Users\\enfxm\\Desktop\\Python Testing\\Test Report Template\\Test-Report-Generator\\fifth\\csv_output\\table1.csv to LaTeX with merged cells: C:\\Users\\enfxm\\Desktop\\Python Testing\\Test Report Template\\Test-Report-Generator\\fifth\\latex_output\\table1.tex\n",
      "\\begin{tabular}{cccccccccccc}\n",
      "-- & -- & \\multicolumn{5}{c}{\\textbf{Frequency (MHz)}} & \\multicolumn{5}{c}{\\textbf{Load (W)}} \\\\\n",
      "-- & -- & 1 & 10 & 20 & 40 & 50 & 0 & 25 & 50 & 75 & 100 \\\\\n",
      "\\midrule\n",
      "\\multirow{2}{*}{\\textbf{Input Voltage (V)}} & 99 & -- & -- & -- & -- & -- & -- & -- & -- & -- & -- \\\\\n",
      " & 277 & -- & -- & -- & -- & -- & -- & -- & -- & -- & -- \\\\\n",
      "\\end{tabular}\n"
     ]
    }
   ],
   "source": [
    "path = r\"C:\\Users\\enfxm\\Desktop\\Python Testing\\Test Report Template\\Test-Report-Generator\\fifth\\csv_output\\table1.csv\"\n",
    "output_path = r\"C:\\Users\\enfxm\\Desktop\\Python Testing\\Test Report Template\\Test-Report-Generator\\fifth\\latex_output\"\n",
    "\n",
    "latex_code = csv_to_latex(path, output_path)\n",
    "\n",
    "print(latex_code)"
   ]
  },
  {
   "cell_type": "code",
   "execution_count": null,
   "id": "6352fbf2",
   "metadata": {},
   "outputs": [
    {
     "name": "stdout",
     "output_type": "stream",
     "text": [
      "=== Testing Enhanced Complete LaTeX Document Generation ===\n",
      "\n",
      "--- Test 2: Auto-detect test name from metadata ---\n"
     ]
    },
    {
     "name": "stdout",
     "output_type": "stream",
     "text": [
      "Created LaTeX subsection: C:\\Users\\enfxm\\Desktop\\Python Testing\\Test Report Template\\Test-Report-Generator\\fifth\\latex_output\\Input_Current_subsection.tex\n",
      "Subsection contains 10 tables\n",
      "Test name: Input Current\n"
     ]
    }
   ],
   "source": [
    "# Test enhanced complete LaTeX generation\n",
    "import importlib\n",
    "import export_utils\n",
    "importlib.reload(export_utils)\n",
    "\n",
    "print(\"=== Testing Enhanced Complete LaTeX Document Generation ===\")\n",
    "\n",
    "output_dir = r\"C:\\Users\\enfxm\\Desktop\\Python Testing\\Test Report Template\\Test-Report-Generator\\fifth\\latex_output\"\n",
    "\n",
    "# Test 2: Without test name (auto-detect from metadata)\n",
    "print(\"\\n--- Test 2: Auto-detect test name from metadata ---\")\n",
    "latex_file_2 = export_utils.tables_to_complete_latex(test1_tables, output_dir)\n"
   ]
  }
 ],
 "metadata": {
  "kernelspec": {
   "display_name": "Python 3",
   "language": "python",
   "name": "python3"
  },
  "language_info": {
   "codemirror_mode": {
    "name": "ipython",
    "version": 3
   },
   "file_extension": ".py",
   "mimetype": "text/x-python",
   "name": "python",
   "nbconvert_exporter": "python",
   "pygments_lexer": "ipython3",
   "version": "3.13.5"
  }
 },
 "nbformat": 4,
 "nbformat_minor": 5
}
