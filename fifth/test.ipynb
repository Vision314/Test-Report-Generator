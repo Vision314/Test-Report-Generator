{
 "cells": [
  {
   "cell_type": "code",
   "execution_count": null,
   "id": "5bc0b319",
   "metadata": {},
   "outputs": [],
   "source": [
    "# Row Conditions:\n",
    "    # names - string \"\"\n",
    "    # unit - string \"\"\n",
    "    # values - array of floats [0.0, 0.0, 0.0]\n",
    "# Column Conditions\n",
    "    # name - string \"\"\n",
    "    # unit - string \"\"\n",
    "    # values - array of floats [0.0, 0.0, 0.0]\n",
    "# Table Conditions\n",
    "    # names - array of strings [\"\", \"\", \"\"]\n",
    "    # units - array of strings [\"\", \"\", \"\"]\n",
    "    # values - array of floats [0.0, 0.0, 0.0]\n",
    "\n"
   ]
  }
 ],
 "metadata": {
  "language_info": {
   "name": "python"
  }
 },
 "nbformat": 4,
 "nbformat_minor": 5
}
